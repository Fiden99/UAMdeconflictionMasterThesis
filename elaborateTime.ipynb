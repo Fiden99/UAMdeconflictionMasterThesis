{
 "cells": [
  {
   "cell_type": "code",
   "execution_count": 1,
   "metadata": {},
   "outputs": [],
   "source": [
    "import pandas as pd\n",
    "import numpy as np\n",
    "import re"
   ]
  },
  {
   "cell_type": "markdown",
   "metadata": {},
   "source": [
    "Read data"
   ]
  },
  {
   "cell_type": "code",
   "execution_count": 2,
   "metadata": {},
   "outputs": [],
   "source": [
    "#NC\n",
    "#NF means non fixed\n",
    "pdNCF=pd.read_csv(\"/home/magi/UAMdeconflictionMasterThesis/risultati/mercedes/times/mercedesNC_Fixed_nvar_ncon.csv\")\n",
    "pdNCNF=pd.read_csv(\"/home/magi/UAMdeconflictionMasterThesis/risultati/mercedes/times/mercedesNC_nvar_ncon.csv\")\n",
    "#AP\n",
    "pdAPF=pd.read_csv(\"/home/magi/UAMdeconflictionMasterThesis/risultati/mercedes/times/mercedesAP_Fixed_nvar_ncon.csv\")\n",
    "pdAPNF=pd.read_csv(\"/home/magi/UAMdeconflictionMasterThesis/risultati/mercedes/times/mercedesAP_nvar_ncon.csv\")\n",
    "#drift and delay\n",
    "pdDDF=pd.read_csv(\"/home/magi/UAMdeconflictionMasterThesis/risultati/mercedes/times/mercedes_Fixed_nvar_ncon.csv\")\n",
    "pdDDNF=pd.read_csv(\"/home/magi/UAMdeconflictionMasterThesis/risultati/mercedes/times/mercedes_nvar_ncon.csv\")"
   ]
  },
  {
   "cell_type": "markdown",
   "metadata": {},
   "source": [
    "Generate latex with name, the information in the csv"
   ]
  },
  {
   "cell_type": "code",
   "execution_count": 3,
   "metadata": {},
   "outputs": [],
   "source": [
    "def move_column(df, col_name, new_pos):\n",
    "    col = df.pop(col_name)  # Rimuove la colonna\n",
    "    df.insert(new_pos, col_name, col)  # La inserisce nella nuova posizione\n",
    "    return df"
   ]
  },
  {
   "cell_type": "code",
   "execution_count": 4,
   "metadata": {},
   "outputs": [],
   "source": [
    "#NC\n",
    "move_column(pdNCF,\"reduceTini\",1).to_latex(\"/home/magi/UAMdeconflictionMasterThesis/risultati/mercedes/times/TimesFixedNC.tex\",index=False,longtable=True,column_format=\"|l|r|r|r|r|r|r|r|r|r|\")\n",
    "move_column(pdNCNF,\"reduceTini\",1).to_latex(\"/home/magi/UAMdeconflictionMasterThesis/risultati/mercedes/times/TimesNC.tex\",index=False,longtable=True,column_format=\"|l|r|r|r|r|r|r|r|r|r|\")\n",
    "#AP\n",
    "move_column(pdAPF,\"reduceTini\",1).to_latex(\"/home/magi/UAMdeconflictionMasterThesis/risultati/mercedes/times/TimesFixedAP.tex\",index=False,longtable=True,column_format=\"|l|r|r|r|r|r|r|r|r|r|\")\n",
    "move_column(pdAPNF,\"reduceTini\",1).to_latex(\"/home/magi/UAMdeconflictionMasterThesis/risultati/mercedes/times/TimesAP.tex\",index=False,longtable=True,column_format=\"|l|r|r|r|r|r|r|r|r|r|\")\n",
    "#Drift and delay\n",
    "pdDDF.to_latex(\"/home/magi/UAMdeconflictionMasterThesis/risultati/mercedes/times/TimesFixedDD.tex\",index=False,longtable=True,column_format=\"|l|r|r|r|r|r|r|r|r|\")\n",
    "pdDDNF.to_latex(\"/home/magi/UAMdeconflictionMasterThesis/risultati/mercedes/times/TimesDD.tex\",index=False,longtable=True,column_format=\"|l|r|r|r|r|r|r|r|r|\")"
   ]
  },
  {
   "cell_type": "markdown",
   "metadata": {},
   "source": [
    "### Creazioni di sotto dataframe per tipologia e per tini"
   ]
  },
  {
   "cell_type": "code",
   "execution_count": 5,
   "metadata": {},
   "outputs": [],
   "source": [
    "mergedDD = pd.merge(pdDDNF, pdDDF, on=[\"instance\"])\n",
    "mergedAP = pd.merge(pdAPNF, pdAPF, on=[\"instance\",\"reduceTini\"])\n",
    "mergedNC = pd.merge(pdNCNF, pdNCF, on=[\"instance\",\"reduceTini\"])"
   ]
  },
  {
   "cell_type": "markdown",
   "metadata": {},
   "source": [
    "#### drift and delay dataframe"
   ]
  },
  {
   "cell_type": "code",
   "execution_count": 6,
   "metadata": {},
   "outputs": [],
   "source": [
    "#drift and delay merged\n",
    "#airport\n",
    "df_air01=mergedDD[mergedDD[\"instance\"].str.contains(r\"airport\\d+nDr0nDe1\")]\n",
    "df_air02=mergedDD[mergedDD[\"instance\"].str.contains(r\"airport\\d+nDr0nDe2\")]\n",
    "df_air03=mergedDD[mergedDD[\"instance\"].str.contains(r\"airport\\d+nDr0nDe3\")]\n",
    "df_air10=mergedDD[mergedDD[\"instance\"].str.contains(r\"airport\\d+nDr1nDe0\")]\n",
    "df_air11=mergedDD[mergedDD[\"instance\"].str.contains(r\"airport\\d+nDr1nDe1\")]\n",
    "#grid\n",
    "df_grid01=mergedDD[mergedDD[\"instance\"].str.contains(r\"grid\\d+nDr0nDe1\")]\n",
    "df_grid02=mergedDD[mergedDD[\"instance\"].str.contains(r\"grid\\d+nDr0nDe2\")]\n",
    "df_grid03=mergedDD[mergedDD[\"instance\"].str.contains(r\"grid\\d+nDr0nDe3\")]\n",
    "df_grid10=mergedDD[mergedDD[\"instance\"].str.contains(r\"grid\\d+nDr1nDe0\")]\n",
    "df_grid11=mergedDD[mergedDD[\"instance\"].str.contains(r\"grid\\d+nDr1nDe1\")]\n",
    "#metroplex\n",
    "df_mp01=mergedDD[mergedDD[\"instance\"].str.contains(r\"metroplex\\d+nDr0nDe1\")]\n",
    "df_mp02=mergedDD[mergedDD[\"instance\"].str.contains(r\"metroplex\\d+nDr0nDe2\")]\n",
    "df_mp03=mergedDD[mergedDD[\"instance\"].str.contains(r\"metroplex\\d+nDr0nDe3\")]\n",
    "df_mp10=mergedDD[mergedDD[\"instance\"].str.contains(r\"metroplex\\d+nDr1nDe0\")]\n",
    "df_mp11=mergedDD[mergedDD[\"instance\"].str.contains(r\"metroplex\\d+nDr1nDe1\")]"
   ]
  },
  {
   "cell_type": "code",
   "execution_count": 7,
   "metadata": {},
   "outputs": [],
   "source": [
    "#drift and delay fixed\n",
    "#airport\n",
    "df_air01F=pdDDF[pdDDF[\"instance\"].str.contains(r\"airport\\d+nDr0nDe1\")]\n",
    "df_air02F=pdDDF[pdDDF[\"instance\"].str.contains(r\"airport\\d+nDr0nDe2\")]\n",
    "df_air03F=pdDDF[pdDDF[\"instance\"].str.contains(r\"airport\\d+nDr0nDe3\")]\n",
    "df_air10F=pdDDF[pdDDF[\"instance\"].str.contains(r\"airport\\d+nDr1nDe0\")]\n",
    "df_air11F=pdDDF[pdDDF[\"instance\"].str.contains(r\"airport\\d+nDr1nDe1\")]\n",
    "#grid\n",
    "df_grid01F=pdDDF[pdDDF[\"instance\"].str.contains(r\"grid\\d+nDr0nDe1\")]\n",
    "df_grid02F=pdDDF[pdDDF[\"instance\"].str.contains(r\"grid\\d+nDr0nDe2\")]\n",
    "df_grid03F=pdDDF[pdDDF[\"instance\"].str.contains(r\"grid\\d+nDr0nDe3\")]\n",
    "df_grid10F=pdDDF[pdDDF[\"instance\"].str.contains(r\"grid\\d+nDr1nDe0\")]\n",
    "df_grid11F=pdDDF[pdDDF[\"instance\"].str.contains(r\"grid\\d+nDr1nDe1\")]\n",
    "#metroplex\n",
    "df_mp01F=pdDDF[pdDDF[\"instance\"].str.contains(r\"metroplex\\d+nDr0nDe1\")]\n",
    "df_mp02F=pdDDF[pdDDF[\"instance\"].str.contains(r\"metroplex\\d+nDr0nDe2\")]\n",
    "df_mp03F=pdDDF[pdDDF[\"instance\"].str.contains(r\"metroplex\\d+nDr0nDe3\")]\n",
    "df_mp10F=pdDDF[pdDDF[\"instance\"].str.contains(r\"metroplex\\d+nDr1nDe0\")]\n",
    "df_mp11F=pdDDF[pdDDF[\"instance\"].str.contains(r\"metroplex\\d+nDr1nDe1\")]"
   ]
  },
  {
   "cell_type": "code",
   "execution_count": 8,
   "metadata": {},
   "outputs": [],
   "source": [
    "#drift and delay not fixed\n",
    "#airport\n",
    "df_air01NF=pdDDNF[pdDDNF[\"instance\"].str.contains(r\"airport\\d+nDr0nDe1\")]\n",
    "df_air02NF=pdDDNF[pdDDNF[\"instance\"].str.contains(r\"airport\\d+nDr0nDe2\")]\n",
    "df_air03NF=pdDDNF[pdDDNF[\"instance\"].str.contains(r\"airport\\d+nDr0nDe3\")]\n",
    "df_air10NF=pdDDNF[pdDDNF[\"instance\"].str.contains(r\"airport\\d+nDr1nDe0\")]\n",
    "df_air11NF=pdDDNF[pdDDNF[\"instance\"].str.contains(r\"airport\\d+nDr1nDe1\")]\n",
    "#grid\n",
    "df_grid01NF=pdDDNF[pdDDNF[\"instance\"].str.contains(r\"grid\\d+nDr0nDe1\")]\n",
    "df_grid02NF=pdDDNF[pdDDNF[\"instance\"].str.contains(r\"grid\\d+nDr0nDe2\")]\n",
    "df_grid03NF=pdDDNF[pdDDNF[\"instance\"].str.contains(r\"grid\\d+nDr0nDe3\")]\n",
    "df_grid10NF=pdDDNF[pdDDNF[\"instance\"].str.contains(r\"grid\\d+nDr1nDe0\")]\n",
    "df_grid11NF=pdDDNF[pdDDNF[\"instance\"].str.contains(r\"grid\\d+nDr1nDe1\")]\n",
    "#metroplex\n",
    "df_mp01NF=pdDDNF[pdDDNF[\"instance\"].str.contains(r\"metroplex\\d+nDr0nDe1\")]\n",
    "df_mp02NF=pdDDNF[pdDDNF[\"instance\"].str.contains(r\"metroplex\\d+nDr0nDe2\")]\n",
    "df_mp03NF=pdDDNF[pdDDNF[\"instance\"].str.contains(r\"metroplex\\d+nDr0nDe3\")]\n",
    "df_mp10NF=pdDDNF[pdDDNF[\"instance\"].str.contains(r\"metroplex\\d+nDr1nDe0\")]\n",
    "df_mp11NF=pdDDNF[pdDDNF[\"instance\"].str.contains(r\"metroplex\\d+nDr1nDe1\")]"
   ]
  },
  {
   "cell_type": "markdown",
   "metadata": {},
   "source": [
    "#### AP dataframe"
   ]
  },
  {
   "cell_type": "code",
   "execution_count": 9,
   "metadata": {},
   "outputs": [],
   "source": [
    "#merged\n",
    "#airport\n",
    "df_airAP0 = mergedAP[(mergedAP[\"instance\"].str.contains(r\"airport\")) & (mergedAP[\"reduceTini\"] == 0)]\n",
    "df_airAP1 = mergedAP[(mergedAP[\"instance\"].str.contains(r\"airport\")) & (mergedAP[\"reduceTini\"] == 1)]\n",
    "df_airAP2 = mergedAP[(mergedAP[\"instance\"].str.contains(r\"airport\")) & (mergedAP[\"reduceTini\"] == 2)]\n",
    "#grid\n",
    "df_gridAP0 = mergedAP[(mergedAP[\"instance\"].str.contains(r\"grid\")) & (mergedAP[\"reduceTini\"] == 0)]\n",
    "df_gridAP1 = mergedAP[(mergedAP[\"instance\"].str.contains(r\"grid\")) & (mergedAP[\"reduceTini\"] == 1)]\n",
    "df_gridAP2 = mergedAP[(mergedAP[\"instance\"].str.contains(r\"grid\")) & (mergedAP[\"reduceTini\"] == 2)]\n",
    "#metroplex\n",
    "df_mpAP0 = mergedAP[(mergedAP[\"instance\"].str.contains(r\"metroplex\")) & (mergedAP[\"reduceTini\"] == 0)]\n",
    "df_mpAP1 = mergedAP[(mergedAP[\"instance\"].str.contains(r\"metroplex\")) & (mergedAP[\"reduceTini\"] == 1)]\n",
    "df_mpAP2 = mergedAP[(mergedAP[\"instance\"].str.contains(r\"metroplex\")) & (mergedAP[\"reduceTini\"] == 2)]"
   ]
  },
  {
   "cell_type": "code",
   "execution_count": 10,
   "metadata": {},
   "outputs": [],
   "source": [
    "#AP  fixed\n",
    "#airport\n",
    "df_airAP0F = pdAPF[(pdAPF[\"instance\"].str.contains(r\"airport\")) & (pdAPF[\"reduceTini\"] == 0)]\n",
    "df_airAP1F = pdAPF[(pdAPF[\"instance\"].str.contains(r\"airport\")) & (pdAPF[\"reduceTini\"] == 1)]\n",
    "df_airAP2F = pdAPF[(pdAPF[\"instance\"].str.contains(r\"airport\")) & (pdAPF[\"reduceTini\"] == 2)]\n",
    "#grid\n",
    "df_gridAP0F = pdAPF[(pdAPF[\"instance\"].str.contains(r\"grid\")) & (pdAPF[\"reduceTini\"] == 0)]\n",
    "df_gridAP1F = pdAPF[(pdAPF[\"instance\"].str.contains(r\"grid\")) & (pdAPF[\"reduceTini\"] == 1)]\n",
    "df_gridAP2F = pdAPF[(pdAPF[\"instance\"].str.contains(r\"grid\")) & (pdAPF[\"reduceTini\"] == 2)]\n",
    "#metroplex\n",
    "df_mpAP0F = pdAPF[(pdAPF[\"instance\"].str.contains(r\"metroplex\")) & (pdAPF[\"reduceTini\"] == 0)]\n",
    "df_mpAP1F = pdAPF[(pdAPF[\"instance\"].str.contains(r\"metroplex\")) & (pdAPF[\"reduceTini\"] == 1)]\n",
    "df_mpAP2F = pdAPF[(pdAPF[\"instance\"].str.contains(r\"metroplex\")) & (pdAPF[\"reduceTini\"] == 2)]"
   ]
  },
  {
   "cell_type": "code",
   "execution_count": 11,
   "metadata": {},
   "outputs": [],
   "source": [
    "#AP not fixed\n",
    "#airport\n",
    "df_airAP0NF = pdAPNF[(pdAPNF[\"instance\"].str.contains(r\"airport\")) & (pdAPNF[\"reduceTini\"] == 0)]\n",
    "df_airAP1NF = pdAPNF[(pdAPNF[\"instance\"].str.contains(r\"airport\")) & (pdAPNF[\"reduceTini\"] == 1)]\n",
    "df_airAP2NF = pdAPNF[(pdAPNF[\"instance\"].str.contains(r\"airport\")) & (pdAPNF[\"reduceTini\"] == 2)]\n",
    "#grid\n",
    "df_gridAP0NF = pdAPNF[(pdAPNF[\"instance\"].str.contains(r\"grid\")) & (pdAPNF[\"reduceTini\"] == 0)]\n",
    "df_gridAP1NF = pdAPNF[(pdAPNF[\"instance\"].str.contains(r\"grid\")) & (pdAPNF[\"reduceTini\"] == 1)]\n",
    "df_gridAP2NF = pdAPNF[(pdAPNF[\"instance\"].str.contains(r\"grid\")) & (pdAPNF[\"reduceTini\"] == 2)]\n",
    "#metroplex\n",
    "df_mpAP0NF = pdAPNF[(pdAPNF[\"instance\"].str.contains(r\"metroplex\")) & (pdAPNF[\"reduceTini\"] == 0)]\n",
    "df_mpAP1NF = pdAPNF[(pdAPNF[\"instance\"].str.contains(r\"metroplex\")) & (pdAPNF[\"reduceTini\"] == 1)]\n",
    "df_mpAP2NF = pdAPNF[(pdAPNF[\"instance\"].str.contains(r\"metroplex\")) & (pdAPNF[\"reduceTini\"] == 2)]"
   ]
  },
  {
   "cell_type": "markdown",
   "metadata": {},
   "source": [
    "#### non collaborative dataframe"
   ]
  },
  {
   "cell_type": "code",
   "execution_count": 12,
   "metadata": {},
   "outputs": [],
   "source": [
    "#merged version\n",
    "#airport\n",
    "df_airNC0 = mergedNC[(mergedNC[\"instance\"].str.contains(r\"airport\")) & (mergedNC[\"reduceTini\"] == 0)]\n",
    "df_airNC1 = mergedNC[(mergedNC[\"instance\"].str.contains(r\"airport\")) & (mergedNC[\"reduceTini\"] == 1)]\n",
    "df_airNC2 = mergedNC[(mergedNC[\"instance\"].str.contains(r\"airport\")) & (mergedNC[\"reduceTini\"] == 2)]\n",
    "#grid\n",
    "df_gridNC0 = mergedNC[(mergedNC[\"instance\"].str.contains(r\"grid\")) & (mergedNC[\"reduceTini\"] == 0)]\n",
    "df_gridNC1 = mergedNC[(mergedNC[\"instance\"].str.contains(r\"grid\")) & (mergedNC[\"reduceTini\"] == 1)]\n",
    "df_gridNC2 = mergedNC[(mergedNC[\"instance\"].str.contains(r\"grid\")) & (mergedNC[\"reduceTini\"] == 2)]\n",
    "#metroplex\n",
    "df_mpNC0 = mergedNC[(mergedNC[\"instance\"].str.contains(r\"metroplex\")) & (mergedNC[\"reduceTini\"] == 0)]\n",
    "df_mpNC1 = mergedNC[(mergedNC[\"instance\"].str.contains(r\"metroplex\")) & (mergedNC[\"reduceTini\"] == 1)]\n",
    "df_mpNC2 = mergedNC[(mergedNC[\"instance\"].str.contains(r\"metroplex\")) & (mergedNC[\"reduceTini\"] == 2)]"
   ]
  },
  {
   "cell_type": "code",
   "execution_count": 13,
   "metadata": {},
   "outputs": [],
   "source": [
    "#NC fixed\n",
    "#airport\n",
    "df_airNC0F = pdNCF[(pdNCF[\"instance\"].str.contains(r\"airport\")) & (pdNCF[\"reduceTini\"] == 0)]\n",
    "df_airNC1F = pdNCF[(pdNCF[\"instance\"].str.contains(r\"airport\")) & (pdNCF[\"reduceTini\"] == 1)]\n",
    "df_airNC2F = pdNCF[(pdNCF[\"instance\"].str.contains(r\"airport\")) & (pdNCF[\"reduceTini\"] == 2)]\n",
    "#grid\n",
    "df_gridNC0F = pdNCF[(pdNCF[\"instance\"].str.contains(r\"grid\")) & (pdNCF[\"reduceTini\"] == 0)]\n",
    "df_gridNC1F = pdNCF[(pdNCF[\"instance\"].str.contains(r\"grid\")) & (pdNCF[\"reduceTini\"] == 1)]\n",
    "df_gridNC2F = pdNCF[(pdNCF[\"instance\"].str.contains(r\"grid\")) & (pdNCF[\"reduceTini\"] == 2)]\n",
    "#metroplex\n",
    "df_mpNC0F = pdNCF[(pdNCF[\"instance\"].str.contains(r\"metroplex\")) & (pdNCF[\"reduceTini\"] == 0)]\n",
    "df_mpNC1F = pdNCF[(pdNCF[\"instance\"].str.contains(r\"metroplex\")) & (pdNCF[\"reduceTini\"] == 1)]\n",
    "df_mpNC2F = pdNCF[(pdNCF[\"instance\"].str.contains(r\"metroplex\")) & (pdNCF[\"reduceTini\"] == 2)]"
   ]
  },
  {
   "cell_type": "code",
   "execution_count": 14,
   "metadata": {},
   "outputs": [],
   "source": [
    "#NC not fixed\n",
    "#airport\n",
    "df_airNC0NF = pdNCNF[(pdNCNF[\"instance\"].str.contains(r\"airport\")) & (pdNCNF[\"reduceTini\"] == 0)]\n",
    "df_airNC1NF = pdNCNF[(pdNCNF[\"instance\"].str.contains(r\"airport\")) & (pdNCNF[\"reduceTini\"] == 1)]\n",
    "df_airNC2NF = pdNCNF[(pdNCNF[\"instance\"].str.contains(r\"airport\")) & (pdNCNF[\"reduceTini\"] == 2)]\n",
    "#grid\n",
    "df_gridNC0NF = pdNCNF[(pdNCNF[\"instance\"].str.contains(r\"grid\")) & (pdNCNF[\"reduceTini\"] == 0)]\n",
    "df_gridNC1NF = pdNCNF[(pdNCNF[\"instance\"].str.contains(r\"grid\")) & (pdNCNF[\"reduceTini\"] == 1)]\n",
    "df_gridNC2NF = pdNCNF[(pdNCNF[\"instance\"].str.contains(r\"grid\")) & (pdNCNF[\"reduceTini\"] == 2)]\n",
    "#metroplex\n",
    "df_mpNC0NF = pdNCNF[(pdNCNF[\"instance\"].str.contains(r\"metroplex\")) & (pdNCNF[\"reduceTini\"] == 0)]\n",
    "df_mpNC1NF = pdNCNF[(pdNCNF[\"instance\"].str.contains(r\"metroplex\")) & (pdNCNF[\"reduceTini\"] == 1)]\n",
    "df_mpNC2NF = pdNCNF[(pdNCNF[\"instance\"].str.contains(r\"metroplex\")) & (pdNCNF[\"reduceTini\"] == 2)]"
   ]
  },
  {
   "cell_type": "markdown",
   "metadata": {},
   "source": [
    "media,valore attesso e tutto il resto per result e i vari time"
   ]
  },
  {
   "cell_type": "code",
   "execution_count": 15,
   "metadata": {},
   "outputs": [],
   "source": [
    "def get_formatted_name(data_name,AP=False,NC=False,Tini=0):\n",
    "    data_name = data_name.replace(\"Fixed\", \"\")\n",
    "    match = re.match(r\"([a-zA-Z]+)(\\d+)([a-zA-Z0-9-]*)\", data_name)\n",
    "    if match:\n",
    "        part1 = match.group(1)\n",
    "        part2 = match.group(3)\n",
    "        part3 = \"\"\n",
    "        if AP and Tini < 0:\n",
    "            part3 = f\"AP-{str(Tini)}\"\n",
    "        elif AP and Tini == 0:\n",
    "            part3 = \"AP0\"\n",
    "        elif NC and Tini < 0:\n",
    "            part3 = f\"NC-{str(Tini)}\"\n",
    "        elif NC and Tini == 0:\n",
    "            part3 = \"NC0\"\n",
    "\n",
    "        \n",
    "        return f\"{part1}{part2}{part3}\"\n",
    "    else:\n",
    "        return data_name  # Caso in cui non ci sia un numero nel nome"
   ]
  },
  {
   "cell_type": "code",
   "execution_count": 16,
   "metadata": {},
   "outputs": [
    {
     "data": {
      "text/plain": [
       "'airport'"
      ]
     },
     "execution_count": 16,
     "metadata": {},
     "output_type": "execute_result"
    }
   ],
   "source": [
    "get_formatted_name(\"airport87Fixed\",NC=True,Tini=1)"
   ]
  },
  {
   "cell_type": "code",
   "execution_count": 17,
   "metadata": {},
   "outputs": [],
   "source": [
    "def obtainStatsComparison(filtered_merged, columnName, considerUnfeasible=True, AP=False, NC=False,Tini=0):\n",
    "    if AP or NC:\n",
    "        Tini = filtered_merged[\"reduceTini\"].iloc[0]\n",
    "    else:\n",
    "        Tini = 0\n",
    "    if considerUnfeasible:\n",
    "        stats = {\n",
    "            \"Typology\":             get_formatted_name(filtered_merged[\"instance\"].iloc[0],AP,NC,Tini),\n",
    "            \"MeanNonFixed\":         filtered_merged[columnName].mean(),\n",
    "            \"MeanFixed\":            filtered_merged[columnName+\"Fixed\"].mean(),\n",
    "            \"STDNonFixed\":          filtered_merged[columnName].std(),\n",
    "            \"STDFixed\":             filtered_merged[columnName+\"Fixed\"].std(),\n",
    "            \"MinNonFixed\":          filtered_merged[columnName].min(),\n",
    "            \"MinFixed\":             filtered_merged[columnName+\"Fixed\"].min(),\n",
    "            \"MaxNonFixed\":          filtered_merged[columnName].max(),\n",
    "            \"MaxFixed\":             filtered_merged[columnName+\"Fixed\"].max(),\n",
    "            #\"CountSolvedNotFixed\":  filtered_merged[columnName].count(),\n",
    "            #\"CountSolvedFixed\":     filtered_merged[columnName+\"Fixed\"].count(),            \n",
    "            \"TotalCount\":           filtered_merged[columnName].count()\n",
    "        }\n",
    "        return stats\n",
    "    stats = {\n",
    "        \"Typology\":             get_formatted_name(filtered_merged[\"instance\"].iloc[0],AP,NC,Tini),\n",
    "        \"MeanNonFixed\":         filtered_merged[np.isfinite(filtered_merged[columnName])][columnName].mean(),\n",
    "        \"MeanFixed\":            filtered_merged[np.isfinite(filtered_merged[columnName+\"Fixed\"])][columnName+\"Fixed\"].mean(),\n",
    "        \"STDNonFixed\":          filtered_merged[np.isfinite(filtered_merged[columnName])][columnName].std(),\n",
    "        \"STDFixed\":             filtered_merged[np.isfinite(filtered_merged[columnName+\"Fixed\"])][columnName+\"Fixed\"].std(),\n",
    "        \"MinNonFixed\":          filtered_merged[columnName].min(),\n",
    "        \"MinFixed\":             filtered_merged[columnName+\"Fixed\"].min(),\n",
    "        \"MaxNonFixed\":          filtered_merged[np.isfinite(filtered_merged[columnName])][columnName].max(),\n",
    "        \"MaxFixed\":             filtered_merged[np.isfinite(filtered_merged[columnName+\"Fixed\"])][columnName+\"Fixed\"].max(),\n",
    "        \"CountSolvedNonFixed\":  filtered_merged[np.isfinite(filtered_merged[columnName])][columnName].count(),\n",
    "        \"CountSolvedFixed\":     filtered_merged[np.isfinite(filtered_merged[columnName+\"Fixed\"])][columnName+\"Fixed\"].count(),        \n",
    "        \"TotalCount\":           filtered_merged[columnName].count()\n",
    "    }\n",
    "    return stats"
   ]
  },
  {
   "cell_type": "code",
   "execution_count": 18,
   "metadata": {},
   "outputs": [],
   "source": [
    "def obtainStatsSummary(filtered_merged, columnName, fixed, considerUnfeasible=True, AP=False, NC=False):\n",
    "    if AP or NC:\n",
    "        Tini = filtered_merged[\"reduceTini\"].iloc[0]\n",
    "    else:\n",
    "        Tini = 0\n",
    "    if fixed:\n",
    "        columnName=columnName+\"Fixed\"\n",
    "    if considerUnfeasible:\n",
    "        stats = {\n",
    "            \"Typology\":     get_formatted_name(filtered_merged[\"instance\"].iloc[0],AP,NC,Tini),\n",
    "            \"Mean\":         filtered_merged[columnName].mean(),\n",
    "            \"STD\":          filtered_merged[columnName].std(),\n",
    "            \"Min\":          filtered_merged[columnName].min(),\n",
    "            \"Max\":          filtered_merged[columnName].max(),           \n",
    "            \"TotalCount\":   filtered_merged[columnName].count()\n",
    "        }\n",
    "        return stats\n",
    "    stats = {\n",
    "        \"Typology\":         get_formatted_name(filtered_merged[\"instance\"].iloc[0],AP,NC,Tini),\n",
    "        \"Mean\":             filtered_merged[np.isfinite(filtered_merged[columnName])][columnName].mean(),\n",
    "        \"STD\":              filtered_merged[np.isfinite(filtered_merged[columnName])][columnName].std(),\n",
    "        \"Min\":              filtered_merged[columnName].min(),\n",
    "        \"Max\":              filtered_merged[np.isfinite(filtered_merged[columnName])][columnName].max(),\n",
    "        \"CountSolved\":      filtered_merged[np.isfinite(filtered_merged[columnName])][columnName].count(),      \n",
    "        \"TotalCount\":       filtered_merged[columnName].count()\n",
    "    }\n",
    "    return stats"
   ]
  },
  {
   "cell_type": "markdown",
   "metadata": {},
   "source": [
    "### Write the file "
   ]
  },
  {
   "cell_type": "markdown",
   "metadata": {},
   "source": [
    "##### Comparison Table, with fixed and non fixed values"
   ]
  },
  {
   "cell_type": "code",
   "execution_count": 19,
   "metadata": {},
   "outputs": [],
   "source": [
    "dfs     = [df_air11,df_air10,df_air01,df_air02,df_air03,df_grid11,df_grid10,df_grid01,df_grid02,df_grid03,df_mp11,df_mp10,df_mp01,df_mp02,df_mp03]\n",
    "dfsAP   = [df_airAP0,df_airAP1,df_airAP2,df_gridAP0,df_gridAP1,df_gridAP2,df_mpAP0,df_mpAP1,df_mpAP2]\n",
    "dfsNC   = [df_airNC0,df_airNC1,df_airNC2,df_gridNC0,df_gridNC1,df_gridNC2,df_mpNC0,df_mpNC1,df_mpNC2]\n",
    "\n",
    "\n",
    "with open(\"/home/magi/UAMdeconflictionMasterThesis/risultati/mercedes/times/ComparisonTablesResults.tex\", \"w\") as f:\n",
    "    f.write(\"\\\\begin{document}\\n\")\n",
    "\n",
    "    #prima tabella: comparazione tra risultati fissati e non fissati\n",
    "    \n",
    "    results = []\n",
    "    for i, df in enumerate(dfs):\n",
    "        stats = obtainStatsComparison(df, \"result\",False)\n",
    "        results.append(stats)\n",
    "    for i, df in enumerate(dfsAP):\n",
    "        stats = obtainStatsComparison(df, \"result\",False,AP=True)\n",
    "        results.append(stats)\n",
    "    for i, df in enumerate(dfsNC):\n",
    "        stats = obtainStatsComparison(df, \"result\",False,NC=True)\n",
    "        results.append(stats)\n",
    "    \n",
    "    latex_table = pd.DataFrame(results).to_latex(index=False, longtable=True, column_format=\"|l|r|r|r|r|r|r|r|r|r|r|r|\",label=\"table:mercedes:resultsComparison\",caption=\"Statistical comparison between fixed and non fixed results of Mercedes instances, unfeasible instance are considered only in TotalCount\")\n",
    "    latex_table = latex_table.replace(r'\\toprule', r'\\hline').replace(r'\\midrule', r'\\hline').replace(r'\\bottomrule', r'\\hline').replace(r'\\\\',r'\\\\ \\hline')\n",
    "    f.write(latex_table)\n",
    "\n",
    "    #seconda tabella: comparazione tra elapsed time fissati e non fissati\n",
    "\n",
    "    results = []\n",
    "    for i, df in enumerate(dfs):\n",
    "        stats = obtainStatsComparison(df, \"elapsedTime\")\n",
    "        results.append(stats)\n",
    "    for i, df in enumerate(dfsAP):\n",
    "        stats = obtainStatsComparison(df, \"elapsedTime\",AP=True)\n",
    "        results.append(stats)\n",
    "    for i, df in enumerate(dfsNC):\n",
    "        stats = obtainStatsComparison(df, \"elapsedTime\",NC=True)\n",
    "        results.append(stats)\n",
    "    \n",
    "    latex_table = pd.DataFrame(results).to_latex(index=False, longtable=True, column_format=\"|l|r|r|r|r|r|r|r|r|r|\",label=\"table:mercedes:elapsedTimeComparison\",caption=\"Statistical comparison between fixed and non fixed elapsed time of Mercedes instances\")\n",
    "    latex_table = latex_table.replace(r'\\toprule', r'\\hline').replace(r'\\midrule', r'\\hline').replace(r'\\bottomrule', r'\\hline').replace(r'\\\\',r'\\\\ \\hline')\n",
    "    f.write(latex_table)\n",
    "\n",
    "    #terza tabella: comaparazione tra totalSolveTime fissati e non fissati\n",
    "    results = []\n",
    "    for i, df in enumerate(dfs):\n",
    "        stats = obtainStatsComparison(df, \"totalSolveTime\")\n",
    "        results.append(stats)\n",
    "    for i, df in enumerate(dfsAP):\n",
    "        stats = obtainStatsComparison(df, \"totalSolveTime\",AP=True)\n",
    "        results.append(stats)\n",
    "    for i, df in enumerate(dfsNC):\n",
    "        stats = obtainStatsComparison(df, \"totalSolveTime\",NC=True)\n",
    "        results.append(stats)\n",
    "    \n",
    "    latex_table = pd.DataFrame(results).to_latex(index=False, longtable=True, column_format=\"|l|r|r|r|r|r|r|r|r|r|\",label=\"table:mercedes:totalSolveTimeComparison\",caption=\"Statistical comparison between fixed and non fixed total solve time of Mercedes instances\")\n",
    "    latex_table = latex_table.replace(r'\\toprule', r'\\hline').replace(r'\\midrule', r'\\hline').replace(r'\\bottomrule', r'\\hline').replace(r'\\\\',r'\\\\ \\hline')\n",
    "    f.write(latex_table)\n",
    "\n",
    "    #quarta tabella: comaparazione tra totalTime fissati e non fissati\n",
    "    results = []\n",
    "    for i, df in enumerate(dfs):\n",
    "        stats = obtainStatsComparison(df, \"totalTime\")\n",
    "        results.append(stats)    \n",
    "    for i, df in enumerate(dfsAP):\n",
    "        stats = obtainStatsComparison(df, \"totalTime\",AP=True)\n",
    "        results.append(stats)    \n",
    "    for i, df in enumerate(dfsNC):\n",
    "        stats = obtainStatsComparison(df, \"totalTime\",NC=True)\n",
    "        results.append(stats)\n",
    "    \n",
    "    latex_table = pd.DataFrame(results).to_latex(index=False, longtable=True, column_format=\"|l|r|r|r|r|r|r|r|r|r|\",label=\"table:mercedes:totalTimeComparison\",caption=\"Statistical comparison between fixed and non fixed total time of Mercedes instances\")\n",
    "    latex_table = latex_table.replace(r'\\toprule', r'\\hline').replace(r'\\midrule', r'\\hline').replace(r'\\bottomrule', r'\\hline').replace(r'\\\\',r'\\\\ \\hline')\n",
    "    f.write(latex_table)\n",
    "\n",
    "    f.write(\"\\\\end{document}\")"
   ]
  },
  {
   "cell_type": "markdown",
   "metadata": {},
   "source": [
    "##### Summary tables, free and fixed results divided"
   ]
  },
  {
   "cell_type": "code",
   "execution_count": 20,
   "metadata": {},
   "outputs": [],
   "source": [
    "dfsF  = [df_air11F,df_air10F,df_air01F,df_air02F,df_air03F,df_grid11F,df_grid10F,df_grid01F,df_grid02F,df_grid03F,df_mp11F,df_mp10F,df_mp01F,df_mp02F,df_mp03F]\n",
    "dfsF_AP = [df_airAP0F,df_airAP1F,df_airAP2F,df_gridAP0F,df_gridAP1F,df_gridAP2F,df_mpAP0F,df_mpAP1F,df_mpAP2F]\n",
    "dfsF_NC = [df_airNC0F,df_airNC1F,df_airNC2F,df_gridNC0F,df_gridNC1F,df_gridNC2F,df_mpNC0F,df_mpNC1F,df_mpNC2F]\n",
    "\n",
    "with open(\"/home/magi/UAMdeconflictionMasterThesis/risultati/mercedes/times/SummaryTablesFixed.tex\", \"w\") as f:\n",
    "    f.write(\"\\\\begin{document}\\n\")\n",
    "\n",
    "    #prima tabella:  risultati path fissati\n",
    "    \n",
    "    results = []\n",
    "    for i, df in enumerate(dfsF):\n",
    "        stats = obtainStatsSummary(df, \"result\",True,False)\n",
    "        results.append(stats)\n",
    "    for i, df in enumerate(dfsF_AP):\n",
    "        stats = obtainStatsSummary(df, \"result\",True,False,AP=True)\n",
    "        results.append(stats)\n",
    "    for i, df in enumerate(dfsF_NC):\n",
    "        stats = obtainStatsSummary(df, \"result\",True,False,NC=True)\n",
    "        results.append(stats)\n",
    "    \n",
    "    latex_table = pd.DataFrame(results).to_latex(index=False, longtable=True, column_format=\"|l|r|r|r|r|r|r|\",label=\"table:mercedes:resultsFixed\",caption=\"Statistics about results obtained from Mercedes instances with all path fixed, unfeasible instance are considered only in TotalCount\")\n",
    "    latex_table = latex_table.replace(r'\\toprule', r'\\hline').replace(r'\\midrule', r'\\hline').replace(r'\\bottomrule', r'\\hline').replace(r'\\\\',r'\\\\ \\hline')\n",
    "    f.write(latex_table)\n",
    "\n",
    "    #seconda tabella: elapsed time path fissati\n",
    "\n",
    "    results = []\n",
    "    for i, df in enumerate(dfsF):\n",
    "        stats = obtainStatsSummary(df, \"elapsedTime\",True)\n",
    "        results.append(stats)    \n",
    "    for i, df in enumerate(dfsF_AP):\n",
    "        stats = obtainStatsSummary(df, \"elapsedTime\",True,AP=True)\n",
    "        results.append(stats)    \n",
    "    for i, df in enumerate(dfsF_NC):\n",
    "        stats = obtainStatsSummary(df, \"elapsedTime\",True,NC=True)\n",
    "        results.append(stats)\n",
    "    \n",
    "    latex_table = pd.DataFrame(results).to_latex(index=False, longtable=True, column_format=\"|l|r|r|r|r|r|\",label=\"table:mercedes:elapsedTimeFixed\",caption=\"Statistic about elapsed time needed for Mercedes instances with all path fixed\")\n",
    "    latex_table = latex_table.replace(r'\\toprule', r'\\hline').replace(r'\\midrule', r'\\hline').replace(r'\\bottomrule', r'\\hline').replace(r'\\\\',r'\\\\ \\hline')\n",
    "    f.write(latex_table)\n",
    "\n",
    "    #terza tabella: totalSolveTime path fissati\n",
    "    results = []\n",
    "    for i, df in enumerate(dfsF):\n",
    "        stats = obtainStatsSummary(df, \"totalSolveTime\",True)\n",
    "        results.append(stats)    \n",
    "    for i, df in enumerate(dfsF_AP):\n",
    "        stats = obtainStatsSummary(df, \"totalSolveTime\",True,AP=True)\n",
    "        results.append(stats)    \n",
    "    for i, df in enumerate(dfsF_NC):\n",
    "        stats = obtainStatsSummary(df, \"totalSolveTime\",True,NC=True)\n",
    "        results.append(stats)\n",
    "    \n",
    "    latex_table = pd.DataFrame(results).to_latex(index=False, longtable=True, column_format=\"|l|r|r|r|r|r|\",label=\"table:mercedes:totalSolveTimeFixed\",caption=\"Statistic about total solve time needed for Mercedes instances with all path fixed\")\n",
    "    latex_table = latex_table.replace(r'\\toprule', r'\\hline').replace(r'\\midrule', r'\\hline').replace(r'\\bottomrule', r'\\hline').replace(r'\\\\',r'\\\\ \\hline')\n",
    "    f.write(latex_table)\n",
    "\n",
    "    #quarta tabella: total time path fissati\n",
    "    results = []\n",
    "    for i, df in enumerate(dfsF):\n",
    "        stats = obtainStatsSummary(df, \"totalTime\",True)\n",
    "        results.append(stats)    \n",
    "    for i, df in enumerate(dfsF_AP):\n",
    "        stats = obtainStatsSummary(df, \"totalTime\",True, AP=True)\n",
    "        results.append(stats)    \n",
    "    for i, df in enumerate(dfsF_NC):\n",
    "        stats = obtainStatsSummary(df, \"totalTime\",True,NC= True)\n",
    "        results.append(stats)\n",
    "    \n",
    "    latex_table = pd.DataFrame(results).to_latex(index=False, longtable=True, column_format=\"|l|r|r|r|r|r|\",label=\"table:mercedes:totalTimeFixed\",caption=\"Statistic about total time needed for Mercedes instances with all path fixed\")\n",
    "    latex_table = latex_table.replace(r'\\toprule', r'\\hline').replace(r'\\midrule', r'\\hline').replace(r'\\bottomrule', r'\\hline').replace(r'\\\\',r'\\\\ \\hline')\n",
    "    f.write(latex_table)\n",
    "\n",
    "    f.write(\"\\\\end{document}\")"
   ]
  },
  {
   "cell_type": "code",
   "execution_count": 21,
   "metadata": {},
   "outputs": [],
   "source": [
    "dfsNF   = [df_air11NF,df_air10NF,df_air01NF,df_air02NF,df_air03NF,df_grid11NF,df_grid10NF,df_grid01NF,df_grid02NF,df_grid03NF,df_mp11NF,df_mp10NF,df_mp01NF,df_mp02NF,df_mp03NF]\n",
    "dfsNF_AP = [df_airAP0NF,df_airAP1NF,df_airAP2NF,df_gridAP0NF,df_gridAP1NF,df_gridAP2NF,df_mpAP0NF,df_mpAP1NF,df_mpAP2NF]\n",
    "dfsNF_NC = [df_airNC0NF,df_airNC1NF,df_airNC2NF,df_gridNC0NF,df_gridNC1NF,df_gridNC2NF,df_mpNC0NF,df_mpNC1NF,df_mpNC2NF]\n",
    "\n",
    "with open(\"/home/magi/UAMdeconflictionMasterThesis/risultati/mercedes/times/SummaryTablesFree.tex\", \"w\") as f:\n",
    "    f.write(\"\\\\begin{document}\\n\")\n",
    "\n",
    "    #prima tabella: \n",
    "    \n",
    "    results = []\n",
    "    for i, df in enumerate(dfsNF):\n",
    "        stats = obtainStatsSummary(df, \"result\",False,False)\n",
    "        results.append(stats)\n",
    "    for i, df in enumerate(dfsNF_AP):\n",
    "        stats = obtainStatsSummary(df, \"result\",False,False,AP=True)\n",
    "        results.append(stats)\n",
    "    for i, df in enumerate(dfsNF_NC):\n",
    "        stats = obtainStatsSummary(df, \"result\",False,False,NC=True)\n",
    "        results.append(stats)\n",
    "    \n",
    "    latex_table = pd.DataFrame(results).to_latex(index=False, longtable=True, column_format=\"|l|r|r|r|r|r|r|\",label=\"table:mercedes:resultsFree\",caption=\"Statistics about results obtained from Mercedes instances with some free path, unfeasible instance are considered only in TotalCount\")\n",
    "    latex_table = latex_table.replace(r'\\toprule', r'\\hline').replace(r'\\midrule', r'\\hline').replace(r'\\bottomrule', r'\\hline').replace(r'\\\\',r'\\\\ \\hline')\n",
    "    f.write(latex_table)\n",
    "\n",
    "    #seconda tabella: comparazione tra elapsed time fissati e non fissati\n",
    "\n",
    "    results = []\n",
    "    for i, df in enumerate(dfsNF):\n",
    "        stats = obtainStatsSummary(df, \"elapsedTime\",False)\n",
    "        results.append(stats)    \n",
    "    for i, df in enumerate(dfsNF_AP):\n",
    "        stats = obtainStatsSummary(df, \"elapsedTime\",False,AP=True)\n",
    "        results.append(stats)    \n",
    "    for i, df in enumerate(dfsNF_NC):\n",
    "        stats = obtainStatsSummary(df, \"elapsedTime\",False,NC=True)\n",
    "        results.append(stats)\n",
    "    \n",
    "    latex_table = pd.DataFrame(results).to_latex(index=False, longtable=True, column_format=\"|l|r|r|r|r|r|\",label=\"table:mercedes:elapsedTimeFree\",caption=\"Statistic about elapsed time needed for Mercedes instances with some free path\")\n",
    "    latex_table = latex_table.replace(r'\\toprule', r'\\hline').replace(r'\\midrule', r'\\hline').replace(r'\\bottomrule', r'\\hline').replace(r'\\\\',r'\\\\ \\hline')\n",
    "    f.write(latex_table)\n",
    "\n",
    "    #terza tabella: comaparazione tra totalSolveTime fissati e non fissati\n",
    "    results = []\n",
    "    for i, df in enumerate(dfsNF):\n",
    "        stats = obtainStatsSummary(df, \"totalSolveTime\",False)\n",
    "        results.append(stats)    \n",
    "    for i, df in enumerate(dfsNF_AP):\n",
    "        stats = obtainStatsSummary(df, \"totalSolveTime\",False,AP=True)\n",
    "        results.append(stats)    \n",
    "    for i, df in enumerate(dfsNF_NC):\n",
    "        stats = obtainStatsSummary(df, \"totalSolveTime\",False,NC=True)\n",
    "        results.append(stats)\n",
    "    \n",
    "    latex_table = pd.DataFrame(results).to_latex(index=False, longtable=True, column_format=\"|l|r|r|r|r|r|\",label=\"table:mercedes:totalSolveTimeFree\",caption=\"Statistic about total solve time needed for Mercedes instances with some free path\")\n",
    "    latex_table = latex_table.replace(r'\\toprule', r'\\hline').replace(r'\\midrule', r'\\hline').replace(r'\\bottomrule', r'\\hline').replace(r'\\\\',r'\\\\ \\hline')\n",
    "    f.write(latex_table)\n",
    "\n",
    "    #quarta tabella: comaparazione tra totalTime fissati e non fissati\n",
    "    results = []    \n",
    "    for i, df in enumerate(dfsNF):\n",
    "        stats = obtainStatsSummary(df, \"totalTime\",False)\n",
    "        results.append(stats)    \n",
    "    for i, df in enumerate(dfsNF_AP):\n",
    "        stats = obtainStatsSummary(df, \"totalTime\",False,AP=True)\n",
    "        results.append(stats)    \n",
    "    for i, df in enumerate(dfsNF_NC):\n",
    "        stats = obtainStatsSummary(df, \"totalTime\",False,NC=True)\n",
    "        results.append(stats)\n",
    "    \n",
    "    latex_table = pd.DataFrame(results).to_latex(index=False, longtable=True, column_format=\"|l|r|r|r|r|r|\",label=\"table:mercedes:totalTimeFree\",caption=\"Statistic about total time needed for Mercedes instances with some free path\")\n",
    "    latex_table = latex_table.replace(r'\\toprule', r'\\hline').replace(r'\\midrule', r'\\hline').replace(r'\\bottomrule', r'\\hline').replace(r'\\\\',r'\\\\ \\hline')\n",
    "    f.write(latex_table)\n",
    "\n",
    "    f.write(\"\\\\end{document}\")"
   ]
  },
  {
   "cell_type": "markdown",
   "metadata": {},
   "source": [
    "mostrare quando i risultati divergono"
   ]
  },
  {
   "cell_type": "code",
   "execution_count": null,
   "metadata": {},
   "outputs": [],
   "source": []
  },
  {
   "cell_type": "markdown",
   "metadata": {},
   "source": []
  }
 ],
 "metadata": {
  "kernelspec": {
   "display_name": "Python 3",
   "language": "python",
   "name": "python3"
  },
  "language_info": {
   "codemirror_mode": {
    "name": "ipython",
    "version": 3
   },
   "file_extension": ".py",
   "mimetype": "text/x-python",
   "name": "python",
   "nbconvert_exporter": "python",
   "pygments_lexer": "ipython3",
   "version": "3.11.11"
  }
 },
 "nbformat": 4,
 "nbformat_minor": 2
}
