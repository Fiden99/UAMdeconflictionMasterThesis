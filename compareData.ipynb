{
 "cells": [
  {
   "cell_type": "code",
   "execution_count": 2,
   "metadata": {},
   "outputs": [],
   "source": [
    "import pandas as pd"
   ]
  },
  {
   "cell_type": "code",
   "execution_count": 3,
   "metadata": {},
   "outputs": [
    {
     "data": {
      "text/html": [
       "<div>\n",
       "<style scoped>\n",
       "    .dataframe tbody tr th:only-of-type {\n",
       "        vertical-align: middle;\n",
       "    }\n",
       "\n",
       "    .dataframe tbody tr th {\n",
       "        vertical-align: top;\n",
       "    }\n",
       "\n",
       "    .dataframe thead th {\n",
       "        text-align: right;\n",
       "    }\n",
       "</style>\n",
       "<table border=\"1\" class=\"dataframe\">\n",
       "  <thead>\n",
       "    <tr style=\"text-align: right;\">\n",
       "      <th></th>\n",
       "      <th>nNodes</th>\n",
       "      <th>nFlights</th>\n",
       "      <th>datFile</th>\n",
       "      <th>opt</th>\n",
       "      <th>totalTime</th>\n",
       "      <th>optTime</th>\n",
       "      <th>iterations</th>\n",
       "      <th>optimalIteration</th>\n",
       "    </tr>\n",
       "  </thead>\n",
       "  <tbody>\n",
       "    <tr>\n",
       "      <th>12</th>\n",
       "      <td>5</td>\n",
       "      <td>15</td>\n",
       "      <td>grid13</td>\n",
       "      <td>398</td>\n",
       "      <td>15.312145</td>\n",
       "      <td>13.976834</td>\n",
       "      <td>1</td>\n",
       "      <td>1</td>\n",
       "    </tr>\n",
       "    <tr>\n",
       "      <th>13</th>\n",
       "      <td>5</td>\n",
       "      <td>15</td>\n",
       "      <td>grid18</td>\n",
       "      <td>278</td>\n",
       "      <td>16.090141</td>\n",
       "      <td>15.375819</td>\n",
       "      <td>1</td>\n",
       "      <td>1</td>\n",
       "    </tr>\n",
       "    <tr>\n",
       "      <th>14</th>\n",
       "      <td>5</td>\n",
       "      <td>15</td>\n",
       "      <td>grid10</td>\n",
       "      <td>316</td>\n",
       "      <td>16.791900</td>\n",
       "      <td>15.603953</td>\n",
       "      <td>1</td>\n",
       "      <td>1</td>\n",
       "    </tr>\n",
       "    <tr>\n",
       "      <th>15</th>\n",
       "      <td>5</td>\n",
       "      <td>15</td>\n",
       "      <td>grid11</td>\n",
       "      <td>293</td>\n",
       "      <td>17.230603</td>\n",
       "      <td>15.998871</td>\n",
       "      <td>1</td>\n",
       "      <td>1</td>\n",
       "    </tr>\n",
       "    <tr>\n",
       "      <th>16</th>\n",
       "      <td>5</td>\n",
       "      <td>15</td>\n",
       "      <td>grid19</td>\n",
       "      <td>365</td>\n",
       "      <td>17.520145</td>\n",
       "      <td>16.238589</td>\n",
       "      <td>1</td>\n",
       "      <td>1</td>\n",
       "    </tr>\n",
       "    <tr>\n",
       "      <th>...</th>\n",
       "      <td>...</td>\n",
       "      <td>...</td>\n",
       "      <td>...</td>\n",
       "      <td>...</td>\n",
       "      <td>...</td>\n",
       "      <td>...</td>\n",
       "      <td>...</td>\n",
       "      <td>...</td>\n",
       "    </tr>\n",
       "    <tr>\n",
       "      <th>215</th>\n",
       "      <td>5</td>\n",
       "      <td>15</td>\n",
       "      <td>airport15</td>\n",
       "      <td>598</td>\n",
       "      <td>2138.112291</td>\n",
       "      <td>157.320604</td>\n",
       "      <td>27</td>\n",
       "      <td>2</td>\n",
       "    </tr>\n",
       "    <tr>\n",
       "      <th>216</th>\n",
       "      <td>5</td>\n",
       "      <td>15</td>\n",
       "      <td>airport0</td>\n",
       "      <td>566</td>\n",
       "      <td>2139.726452</td>\n",
       "      <td>953.236848</td>\n",
       "      <td>27</td>\n",
       "      <td>12</td>\n",
       "    </tr>\n",
       "    <tr>\n",
       "      <th>217</th>\n",
       "      <td>5</td>\n",
       "      <td>15</td>\n",
       "      <td>airport14</td>\n",
       "      <td>533</td>\n",
       "      <td>2376.462983</td>\n",
       "      <td>1428.487127</td>\n",
       "      <td>30</td>\n",
       "      <td>18</td>\n",
       "    </tr>\n",
       "    <tr>\n",
       "      <th>218</th>\n",
       "      <td>5</td>\n",
       "      <td>15</td>\n",
       "      <td>airport7</td>\n",
       "      <td>595</td>\n",
       "      <td>2767.600240</td>\n",
       "      <td>952.040958</td>\n",
       "      <td>35</td>\n",
       "      <td>12</td>\n",
       "    </tr>\n",
       "    <tr>\n",
       "      <th>219</th>\n",
       "      <td>5</td>\n",
       "      <td>15</td>\n",
       "      <td>airport1</td>\n",
       "      <td>450</td>\n",
       "      <td>3080.966111</td>\n",
       "      <td>157.692634</td>\n",
       "      <td>39</td>\n",
       "      <td>2</td>\n",
       "    </tr>\n",
       "  </tbody>\n",
       "</table>\n",
       "<p>120 rows × 8 columns</p>\n",
       "</div>"
      ],
      "text/plain": [
       "     nNodes  nFlights    datFile  opt    totalTime      optTime  iterations  \\\n",
       "12        5        15     grid13  398    15.312145    13.976834           1   \n",
       "13        5        15     grid18  278    16.090141    15.375819           1   \n",
       "14        5        15     grid10  316    16.791900    15.603953           1   \n",
       "15        5        15     grid11  293    17.230603    15.998871           1   \n",
       "16        5        15     grid19  365    17.520145    16.238589           1   \n",
       "..      ...       ...        ...  ...          ...          ...         ...   \n",
       "215       5        15  airport15  598  2138.112291   157.320604          27   \n",
       "216       5        15   airport0  566  2139.726452   953.236848          27   \n",
       "217       5        15  airport14  533  2376.462983  1428.487127          30   \n",
       "218       5        15   airport7  595  2767.600240   952.040958          35   \n",
       "219       5        15   airport1  450  3080.966111   157.692634          39   \n",
       "\n",
       "     optimalIteration  \n",
       "12                  1  \n",
       "13                  1  \n",
       "14                  1  \n",
       "15                  1  \n",
       "16                  1  \n",
       "..                ...  \n",
       "215                 2  \n",
       "216                12  \n",
       "217                18  \n",
       "218                12  \n",
       "219                 2  \n",
       "\n",
       "[120 rows x 8 columns]"
      ]
     },
     "execution_count": 3,
     "metadata": {},
     "output_type": "execute_result"
    }
   ],
   "source": [
    "df = pd.read_csv('/home/magi/UAMdeconflictionMasterThesis/modelli/results.csv', sep=',',comment='#')\n",
    "df5 = df[df['nNodes']==5]\n",
    "df6 = df[df['nNodes']==6]\n",
    "df5"
   ]
  },
  {
   "cell_type": "code",
   "execution_count": 4,
   "metadata": {},
   "outputs": [
    {
     "name": "stdout",
     "output_type": "stream",
     "text": [
      "airport9 481 481 2 1 1 1\n",
      "airport11 450 450 27 2 1 1\n",
      "airport14 534 533 30 30 18 18\n",
      "airport9 481 481 1 2 1 1\n",
      "airport11 450 450 2 27 1 1\n",
      "airport14 533 534 30 30 18 18\n",
      "True\n"
     ]
    }
   ],
   "source": [
    "found = False\n",
    "for (index, row) in df5.iterrows():\n",
    "    for (index2,row2) in df5.iterrows():\n",
    "        if (row['datFile'] == row2['datFile'] ):\n",
    "            if (row['opt']!=row2['opt'] or row['iterations']!=row2['iterations'] or row['optimalIteration']!= row2['optimalIteration']):\n",
    "                print(row['datFile'], row['opt'], row2['opt'], row['iterations'], row2['iterations'], row['optimalIteration'], row2['optimalIteration'])\n",
    "            else:\n",
    "                found = True\n",
    "print(found)"
   ]
  },
  {
   "cell_type": "code",
   "execution_count": 5,
   "metadata": {},
   "outputs": [
    {
     "name": "stdout",
     "output_type": "stream",
     "text": [
      "airport15 1037 1054 27 27 4 4\n",
      "airport2 927 909 27 27 3 3\n",
      "airport1 1048 1044 34 34 2 2\n",
      "airport12 1065 1082 36 36 8 8\n",
      "airport3 882 859 38 38 7 7\n"
     ]
    },
    {
     "name": "stdout",
     "output_type": "stream",
     "text": [
      "airport15 1054 1037 27 27 4 4\n",
      "airport2 909 927 27 27 3 3\n",
      "airport1 1044 1048 34 34 2 2\n",
      "airport12 1082 1065 36 36 8 8\n",
      "airport3 859 882 38 38 7 7\n",
      "True\n"
     ]
    }
   ],
   "source": [
    "found = False\n",
    "for (index, row) in df6.iterrows():\n",
    "    for (index2,row2) in df6.iterrows():\n",
    "        if (row['datFile'] == row2['datFile'] ):\n",
    "            if ((row['opt']!=row2['opt'] or row['iterations']!=row2['iterations']) or row['optimalIteration']!= row2['optimalIteration']):\n",
    "                print(row['datFile'], row['opt'], row2['opt'], row['iterations'], row2['iterations'], row['optimalIteration'], row2['optimalIteration'])\n",
    "            else:\n",
    "                found = True\n",
    "print(found)"
   ]
  },
  {
   "cell_type": "code",
   "execution_count": 7,
   "metadata": {},
   "outputs": [
    {
     "data": {
      "text/plain": [
       "85.61813131666666"
      ]
     },
     "execution_count": 7,
     "metadata": {},
     "output_type": "execute_result"
    }
   ],
   "source": [
    "df6['totalTime'].max()/60"
   ]
  },
  {
   "cell_type": "code",
   "execution_count": null,
   "metadata": {},
   "outputs": [],
   "source": []
  }
 ],
 "metadata": {
  "kernelspec": {
   "display_name": "Python 3",
   "language": "python",
   "name": "python3"
  },
  "language_info": {
   "codemirror_mode": {
    "name": "ipython",
    "version": 3
   },
   "file_extension": ".py",
   "mimetype": "text/x-python",
   "name": "python",
   "nbconvert_exporter": "python",
   "pygments_lexer": "ipython3",
   "version": "3.11.10"
  }
 },
 "nbformat": 4,
 "nbformat_minor": 2
}
