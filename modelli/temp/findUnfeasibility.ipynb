{
 "cells": [
  {
   "cell_type": "code",
   "execution_count": 3,
   "metadata": {},
   "outputs": [],
   "source": [
    "import pandas as pd\n",
    "\n",
    "df = pd.read_csv('t_ear.csv')\n",
    "\n",
    "table = df[df.columns[1:-1]]\n",
    "for column in table.columns:\n",
    "    for row1 in range(0, len(df)):\n",
    "        for row2 in range(0, len(df)):\n",
    "            if abs(table[column].iloc[row1] - table[column].iloc[row2]) < 2 and table[column].iloc[row1] != 0 and table[column].iloc[row2] != 0 and row1 != row2:\n",
    "                print(column, row1, row2)"
   ]
  },
  {
   "cell_type": "code",
   "execution_count": null,
   "metadata": {},
   "outputs": [],
   "source": []
  }
 ],
 "metadata": {
  "kernelspec": {
   "display_name": "Python 3",
   "language": "python",
   "name": "python3"
  },
  "language_info": {
   "codemirror_mode": {
    "name": "ipython",
    "version": 3
   },
   "file_extension": ".py",
   "mimetype": "text/x-python",
   "name": "python",
   "nbconvert_exporter": "python",
   "pygments_lexer": "ipython3",
   "version": "3.11.11"
  }
 },
 "nbformat": 4,
 "nbformat_minor": 2
}
