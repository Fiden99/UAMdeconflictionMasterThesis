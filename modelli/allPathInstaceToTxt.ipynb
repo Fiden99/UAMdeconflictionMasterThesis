{
 "cells": [
  {
   "cell_type": "code",
   "execution_count": 1,
   "metadata": {},
   "outputs": [],
   "source": [
    "import pandas as pd"
   ]
  },
  {
   "cell_type": "code",
   "execution_count": 2,
   "metadata": {},
   "outputs": [],
   "source": [
    "DD = pd.read_csv('results/30_heurMercedes.csv')\n",
    "AP = pd.read_csv('results/30_heurMercedes_AP.csv')\n",
    "NC = pd.read_csv('results/30_heurMercedes_NC.csv')\n",
    "AP['instance'] = \"AP/\" + AP['instance']\n",
    "NC['instance'] = \"NC/\" + NC['instance']\n",
    "\n",
    "# Filtra i record di DD che contengono la sottostringa 'nDe1'\n",
    "DD1 = DD[DD['instance'].str.contains('nDe1')]\n",
    "DD2 = DD[DD['instance'].str.contains('nDe2')]\n",
    "DD3 = DD[DD['instance'].str.contains('nDe3')]\n"
   ]
  },
  {
   "cell_type": "code",
   "execution_count": 3,
   "metadata": {},
   "outputs": [
    {
     "name": "stdout",
     "output_type": "stream",
     "text": [
      "Top 5 righe con il valore totalTime più alto:\n",
      "                instance   totalTime\n",
      "882  metroplex63nDr0nDe3  953.335936\n",
      "875   metroplex4nDr0nDe2  722.202398\n",
      "869  metroplex53nDr0nDe2  688.663992\n",
      "881       grid73nDr0nDe3  660.603433\n",
      "865       grid25nDr0nDe2  651.211218\n",
      "           instance   totalTime\n",
      "291  AP/metroplex20  696.954894\n",
      "245       AP/grid39  686.638210\n",
      "242       AP/grid17  684.776917\n",
      "293  AP/metroplex62  679.941235\n",
      "252       AP/grid57  665.349337\n",
      "           instance   totalTime\n",
      "256  NC/metroplex82  790.129271\n",
      "220       NC/grid10  778.507818\n",
      "243       NC/grid61  755.342692\n",
      "219       NC/grid36  755.256973\n",
      "216       NC/grid51  715.287164\n",
      "\n",
      "Top 5 righe con il valore totalTime più basso:\n",
      "                instance  totalTime\n",
      "3    metroplex19nDr0nDe2   0.319781\n",
      "4    metroplex23nDr0nDe2   0.341418\n",
      "297  metroplex53nDr0nDe3   0.348239\n",
      "726  metroplex95nDr0nDe3   0.350122\n",
      "213  metroplex43nDr0nDe3   0.374757\n",
      "        instance  totalTime\n",
      "19  AP/airport41   2.667207\n",
      "25  AP/airport42   4.142930\n",
      "43  AP/airport55   4.155426\n",
      "35  AP/airport44   4.206580\n",
      "40  AP/airport52   4.352156\n",
      "        instance  totalTime\n",
      "48  NC/airport72   1.392351\n",
      "0   NC/airport25   1.398680\n",
      "13  NC/airport38   1.431987\n",
      "45  NC/airport67   1.534609\n",
      "22   NC/airport4   1.630739\n"
     ]
    }
   ],
   "source": [
    "print(\"Top 5 righe con il valore totalTime più alto:\")\n",
    "print(DD.nlargest(5, 'totalTime')[[\"instance\",\"totalTime\"]])\n",
    "print(AP.nlargest(5, 'totalTime')[[\"instance\",\"totalTime\"]])\n",
    "print(NC.nlargest(5, 'totalTime')[[\"instance\",\"totalTime\"]])\n",
    "\n",
    "print(\"\\nTop 5 righe con il valore totalTime più basso:\")\n",
    "print(DD.nsmallest(5, 'totalTime')[[\"instance\",\"totalTime\"]])\n",
    "print(AP.nsmallest(5, 'totalTime')[[\"instance\",\"totalTime\"]])\n",
    "print(NC.nsmallest(5, 'totalTime')[[\"instance\",\"totalTime\"]])"
   ]
  },
  {
   "cell_type": "code",
   "execution_count": 4,
   "metadata": {},
   "outputs": [],
   "source": [
    "with open(\"/home/magi/UAMdeconflictionMasterThesis/modelli/temp/file_list.txt\", \"w\") as f:\n",
    "    for file in DD1.nlargest(5, 'totalTime')[\"instance\"]:\n",
    "        f.write(file + \"\\n\")    \n",
    "    for file in DD2.nlargest(5, 'totalTime')[\"instance\"]:\n",
    "        f.write(file + \"\\n\")    \n",
    "    for file in DD3.nlargest(5, 'totalTime')[\"instance\"]:\n",
    "        f.write(file + \"\\n\")\n",
    "    for file in AP.nlargest(5, 'totalTime')[\"instance\"]:\n",
    "        f.write(file + \"\\n\")\n",
    "    for file in NC.nlargest(5, 'totalTime')[\"instance\"]:\n",
    "        f.write(file + \"\\n\")\n",
    "    for file in DD1.nsmallest(5, 'totalTime')[\"instance\"]:\n",
    "        f.write(file + \"\\n\")\n",
    "    for file in DD2.nsmallest(5, 'totalTime')[\"instance\"]:\n",
    "        f.write(file + \"\\n\")\n",
    "    for file in DD3.nsmallest(5, 'totalTime')[\"instance\"]:\n",
    "        f.write(file + \"\\n\")\n",
    "    for file in AP.nsmallest(5, 'totalTime')[\"instance\"]:\n",
    "        f.write(file + \"\\n\")\n",
    "    for file in NC.nsmallest(5, 'totalTime')[\"instance\"]:\n",
    "        f.write(file + \"\\n\")\n"
   ]
  },
  {
   "cell_type": "code",
   "execution_count": null,
   "metadata": {},
   "outputs": [],
   "source": []
  }
 ],
 "metadata": {
  "kernelspec": {
   "display_name": "Python 3",
   "language": "python",
   "name": "python3"
  },
  "language_info": {
   "codemirror_mode": {
    "name": "ipython",
    "version": 3
   },
   "file_extension": ".py",
   "mimetype": "text/x-python",
   "name": "python",
   "nbconvert_exporter": "python",
   "pygments_lexer": "ipython3",
   "version": "3.11.11"
  }
 },
 "nbformat": 4,
 "nbformat_minor": 2
}
